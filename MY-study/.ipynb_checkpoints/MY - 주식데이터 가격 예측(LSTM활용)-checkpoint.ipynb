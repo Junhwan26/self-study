{
 "cells": [
  {
   "cell_type": "code",
   "execution_count": 14,
   "metadata": {},
   "outputs": [],
   "source": [
    "import FinanceDataReader as fdr\n",
    "import numpy as np\n",
    "import pandas as pd\n",
    "import matplotlib.pyplot as plt"
   ]
  },
  {
   "cell_type": "markdown",
   "metadata": {},
   "source": [
    "# lstm.py의 함수를 직접 불러옴"
   ]
  },
  {
   "cell_type": "code",
   "execution_count": 91,
   "metadata": {},
   "outputs": [],
   "source": [
    "import time\n",
    "import warnings\n",
    "import numpy as np\n",
    "from numpy import newaxis\n",
    "from keras.layers.core import Dense, Activation, Dropout\n",
    "from keras.layers.recurrent import LSTM\n",
    "from keras.models import Sequential\n",
    "import matplotlib.pyplot as plt\n",
    "\n",
    "\n",
    "warnings.filterwarnings(\"ignore\")\n",
    "\n",
    "def plot_results_multiple(predicted_data, true_data, prediction_len):\n",
    "    fig = plt.figure(facecolor='white',figsize=(10,8))\n",
    "    ax = fig.add_subplot(111)\n",
    "    ax.plot(true_data, label='True Data')\n",
    "    print ('yo')\n",
    "    #Pad the list of predictions to shift it in the graph to it's correct start\n",
    "    for i, data in enumerate(predicted_data):\n",
    "        padding = [None for p in range(int(i * prediction_len))]\n",
    "        plt.plot(padding + data, label='Prediction')\n",
    "        plt.legend()\n",
    "    plt.show()\n",
    "\n",
    "def load_data(filename, seq_len, normalise_window):\n",
    "    f = open(filename, 'r').read()\n",
    "    data = f.split('\\n')\n",
    "\n",
    "    sequence_length = seq_len + 1\n",
    "    result = []\n",
    "    for index in range(len(data) - sequence_length):\n",
    "        result.append(data[index: index + sequence_length])\n",
    "    \n",
    "    if normalise_window:\n",
    "        result = normalise_windows(result)\n",
    "\n",
    "    result = np.array(result)\n",
    "\n",
    "    row = round(0.9 * result.shape[0])\n",
    "    train = result[:int(row), :]\n",
    "    np.random.shuffle(train)\n",
    "    x_train = train[:, :-1]\n",
    "    y_train = train[:, -1]\n",
    "    x_test = result[int(row):, :-1]\n",
    "    y_test = result[int(row):, -1]\n",
    "\n",
    "    x_train = np.reshape(x_train, (x_train.shape[0], x_train.shape[1], 1))\n",
    "    x_test = np.reshape(x_test, (x_test.shape[0], x_test.shape[1], 1))  \n",
    "\n",
    "    return [x_train, y_train, x_test, y_test]\n",
    "\n",
    "def normalise_windows(window_data):\n",
    "    normalised_data = []\n",
    "    for window in window_data:\n",
    "        normalised_window = [((float(p) / float(window[0])) - 1) for p in window]\n",
    "        normalised_data.append(normalised_window)\n",
    "    return normalised_data\n",
    "\n",
    "def build_model(layers):\n",
    "    model = Sequential()\n",
    "\n",
    "    model.add(LSTM(\n",
    "        input_dim=layers[0],\n",
    "        output_dim=layers[1],\n",
    "        return_sequences=True))\n",
    "    model.add(Dropout(0.2))\n",
    "\n",
    "    model.add(LSTM(\n",
    "        layers[2],\n",
    "        return_sequences=False))\n",
    "    model.add(Dropout(0.2))\n",
    "\n",
    "    model.add(Dense(\n",
    "        output_dim=layers[3]))\n",
    "    model.add(Activation(\"linear\"))\n",
    "\n",
    "    start = time.time()\n",
    "    model.compile(loss=\"mse\", optimizer=\"rmsprop\")\n",
    "    print (\"Compilation Time : \", time.time() - start)\n",
    "    return model\n",
    "\n",
    "def predict_point_by_point(model, data):\n",
    "    #Predict each timestep given the last sequence of true data, in effect only predicting 1 step ahead each time\n",
    "    predicted = model.predict(data)\n",
    "    predicted = np.reshape(predicted, (predicted.size,))\n",
    "    return predicted\n",
    "\n",
    "def predict_sequence_full(model, data, window_size):\n",
    "    #Shift the window by 1 new prediction each time, re-run predictions on new window\n",
    "    curr_frame = data[0]\n",
    "    predicted = []\n",
    "    for i in xrange(len(data)):\n",
    "        predicted.append(model.predict(curr_frame[newaxis,:,:])[0,0])\n",
    "        curr_frame = curr_frame[1:]\n",
    "        curr_frame = np.insert(curr_frame, [window_size-1], predicted[-1], axis=0)\n",
    "    return predicted\n",
    "\n",
    "def predict_sequences_multiple(model, data, window_size, prediction_len):\n",
    "    #Predict sequence of 50 steps before shifting prediction run forward by 50 steps\n",
    "    prediction_seqs = []\n",
    "    for i in range(len(data)//prediction_len):\n",
    "        curr_frame = data[i*prediction_len]\n",
    "        predicted = []\n",
    "        for j in range(prediction_len):\n",
    "            predicted.append(model.predict(curr_frame[newaxis,:,:])[0,0])\n",
    "            curr_frame = curr_frame[1:]\n",
    "            curr_frame = np.insert(curr_frame, [window_size-1], predicted[-1], axis=0)\n",
    "        prediction_seqs.append(predicted)\n",
    "    return prediction_seqs"
   ]
  },
  {
   "cell_type": "code",
   "execution_count": 4,
   "metadata": {},
   "outputs": [],
   "source": [
    "from keras.datasets import reuters\n",
    "from keras.utils import np_utils\n",
    "from keras.preprocessing import sequence\n",
    "from keras.models import Sequential, Model\n",
    "from keras.layers import *\n",
    "from keras.preprocessing.text import Tokenizer\n",
    "from keras.preprocessing.sequence import pad_sequences\n",
    "from keras.initializers import Constant\n",
    "import tensorflow as tf\n",
    "from keras.callbacks import *\n",
    "from keras.models import load_model\n",
    "\n",
    "\n",
    "import pickle\n",
    "import numpy as np\n",
    "import pandas as pd\n",
    "import os\n",
    "import matplotlib.pyplot as plt\n",
    "%matplotlib inline\n",
    "\n",
    "from sklearn.feature_extraction.text import CountVectorizer\n",
    "from sklearn.metrics import confusion_matrix, accuracy_score\n",
    "from sklearn.model_selection import train_test_split"
   ]
  },
  {
   "cell_type": "code",
   "execution_count": 3,
   "metadata": {},
   "outputs": [],
   "source": [
    "import tensorflow as tf"
   ]
  },
  {
   "cell_type": "code",
   "execution_count": 1,
   "metadata": {},
   "outputs": [
    {
     "name": "stderr",
     "output_type": "stream",
     "text": [
      "Using TensorFlow backend.\n"
     ]
    }
   ],
   "source": [
    "from keras.layers.core import Dense, Activation, Dropout\n",
    "from keras.layers.recurrent import LSTM\n",
    "from keras.models import Sequential\n",
    "import keras\n",
    "from keras import layers, models, datasets\n",
    "from keras import backend as K\n",
    "from keras.utils import np_utils\n",
    "from keras.preprocessing import sequence\n",
    "import matplotlib.pyplot as plt\n",
    "from sklearn import model_selection, metrics\n",
    "from sklearn.preprocessing import MinMaxScaler"
   ]
  },
  {
   "cell_type": "code",
   "execution_count": 2,
   "metadata": {},
   "outputs": [],
   "source": [
    "import numpy as np\n",
    "import keras\n",
    "from keras import layers, models, datasets\n",
    "from keras import backend as K\n",
    "from keras.utils import np_utils\n",
    "from keras.preprocessing import sequence\n",
    "import matplotlib.pyplot as plt\n",
    "from sklearn import model_selection, metrics\n",
    "from sklearn.preprocessing import MinMaxScaler\n",
    "import os"
   ]
  },
  {
   "cell_type": "code",
   "execution_count": 13,
   "metadata": {},
   "outputs": [],
   "source": [
    "plt.style.use('ggplot') #ggplot스타일 사용"
   ]
  },
  {
   "cell_type": "markdown",
   "metadata": {},
   "source": [
    "# S&500 지수를 활용한 주가 예측"
   ]
  },
  {
   "cell_type": "markdown",
   "metadata": {},
   "source": [
    "https://keraskorea.github.io/posts/2018-10-25-Keras%EB%A5%BC%20%ED%99%9C%EC%9A%A9%ED%95%9C%20%EC%A3%BC%EC%8B%9D%20%EA%B0%80%EA%B2%A9%20%EC%98%88%EC%B8%A1/"
   ]
  },
  {
   "cell_type": "code",
   "execution_count": 4,
   "metadata": {},
   "outputs": [],
   "source": [
    "#2005년부터 지금까지의 s&p500주가데이터 수집\n",
    "df = fdr.DataReader('US500','2005')"
   ]
  },
  {
   "cell_type": "code",
   "execution_count": 20,
   "metadata": {},
   "outputs": [
    {
     "data": {
      "text/html": [
       "<div>\n",
       "<style scoped>\n",
       "    .dataframe tbody tr th:only-of-type {\n",
       "        vertical-align: middle;\n",
       "    }\n",
       "\n",
       "    .dataframe tbody tr th {\n",
       "        vertical-align: top;\n",
       "    }\n",
       "\n",
       "    .dataframe thead th {\n",
       "        text-align: right;\n",
       "    }\n",
       "</style>\n",
       "<table border=\"1\" class=\"dataframe\">\n",
       "  <thead>\n",
       "    <tr style=\"text-align: right;\">\n",
       "      <th></th>\n",
       "      <th>Close</th>\n",
       "      <th>Open</th>\n",
       "      <th>High</th>\n",
       "      <th>Low</th>\n",
       "      <th>Volume</th>\n",
       "      <th>Change</th>\n",
       "    </tr>\n",
       "    <tr>\n",
       "      <th>Date</th>\n",
       "      <th></th>\n",
       "      <th></th>\n",
       "      <th></th>\n",
       "      <th></th>\n",
       "      <th></th>\n",
       "      <th></th>\n",
       "    </tr>\n",
       "  </thead>\n",
       "  <tbody>\n",
       "    <tr>\n",
       "      <th>2006-01-04</th>\n",
       "      <td>1273.46</td>\n",
       "      <td>1268.80</td>\n",
       "      <td>1275.37</td>\n",
       "      <td>1267.74</td>\n",
       "      <td>0.0</td>\n",
       "      <td>0.0037</td>\n",
       "    </tr>\n",
       "    <tr>\n",
       "      <th>2006-01-05</th>\n",
       "      <td>1273.48</td>\n",
       "      <td>1273.46</td>\n",
       "      <td>1276.91</td>\n",
       "      <td>1270.30</td>\n",
       "      <td>0.0</td>\n",
       "      <td>0.0000</td>\n",
       "    </tr>\n",
       "    <tr>\n",
       "      <th>2006-01-06</th>\n",
       "      <td>1285.45</td>\n",
       "      <td>1273.48</td>\n",
       "      <td>1286.09</td>\n",
       "      <td>1273.48</td>\n",
       "      <td>0.0</td>\n",
       "      <td>0.0094</td>\n",
       "    </tr>\n",
       "    <tr>\n",
       "      <th>2006-01-09</th>\n",
       "      <td>1290.15</td>\n",
       "      <td>1285.45</td>\n",
       "      <td>1290.78</td>\n",
       "      <td>1284.82</td>\n",
       "      <td>0.0</td>\n",
       "      <td>0.0037</td>\n",
       "    </tr>\n",
       "    <tr>\n",
       "      <th>2006-01-10</th>\n",
       "      <td>1289.69</td>\n",
       "      <td>1290.15</td>\n",
       "      <td>1290.15</td>\n",
       "      <td>1283.76</td>\n",
       "      <td>0.0</td>\n",
       "      <td>-0.0004</td>\n",
       "    </tr>\n",
       "  </tbody>\n",
       "</table>\n",
       "</div>"
      ],
      "text/plain": [
       "              Close     Open     High      Low  Volume  Change\n",
       "Date                                                          \n",
       "2006-01-04  1273.46  1268.80  1275.37  1267.74     0.0  0.0037\n",
       "2006-01-05  1273.48  1273.46  1276.91  1270.30     0.0  0.0000\n",
       "2006-01-06  1285.45  1273.48  1286.09  1273.48     0.0  0.0094\n",
       "2006-01-09  1290.15  1285.45  1290.78  1284.82     0.0  0.0037\n",
       "2006-01-10  1289.69  1290.15  1290.15  1283.76     0.0 -0.0004"
      ]
     },
     "execution_count": 20,
     "metadata": {},
     "output_type": "execute_result"
    }
   ],
   "source": [
    "df.head()"
   ]
  },
  {
   "cell_type": "code",
   "execution_count": 5,
   "metadata": {},
   "outputs": [
    {
     "data": {
      "text/plain": [
       "<matplotlib.axes._subplots.AxesSubplot at 0x1be319b5908>"
      ]
     },
     "execution_count": 5,
     "metadata": {},
     "output_type": "execute_result"
    },
    {
     "data": {
      "image/png": "[encoded data removed]",
      "text/plain": [
       "<Figure size 432x288 with 1 Axes>"
      ]
     },
     "metadata": {},
     "output_type": "display_data"
    }
   ],
   "source": [
    "df['Close'].plot()"
   ]
  },
  {
   "cell_type": "code",
   "execution_count": 40,
   "metadata": {
    "scrolled": true
   },
   "outputs": [],
   "source": [
    "df[['Close']].to_csv('s&p500.csv',index=False)"
   ]
  },
  {
   "cell_type": "code",
   "execution_count": null,
   "metadata": {},
   "outputs": [],
   "source": []
  },
  {
   "cell_type": "markdown",
   "metadata": {},
   "source": [
    "### 정규화 작업 - 기존에 lstm.py에 있는데 수식의 이해를 돕기 위해서 직접 만듬\n",
    "신경망이 수월하게 작업하기 위해서 데이터들을 -1~1사이의 값을 같도록 정규화 해줘야한다. 이때 정규화는 단순히 normalizing을 하는 것이 아니라 가장 첫번째 날의 종가를 기준으로 주가의 변동량을 계산해서 정규화 한다."
   ]
  },
  {
   "cell_type": "code",
   "execution_count": 21,
   "metadata": {},
   "outputs": [],
   "source": [
    "norm_ls = []\n",
    "for i in range(len(df)):\n",
    "    norm_ls0 = (df['Close'].iloc[i] / df['Close'].iloc[0])-1\n",
    "    norm_ls.append(norm_ls0)"
   ]
  },
  {
   "cell_type": "code",
   "execution_count": 32,
   "metadata": {
    "scrolled": true
   },
   "outputs": [],
   "source": [
    "cl = pd.DataFrame(norm_ls,columns = ['close'])"
   ]
  },
  {
   "cell_type": "markdown",
   "metadata": {},
   "source": [
    "# lstm.py 제대로 받아서 수행"
   ]
  },
  {
   "cell_type": "markdown",
   "metadata": {},
   "source": [
    "#### 위에 load_data코드가 있는데 해당 코드는 lstm모델을 학습시키고 예측을 하기 위해서 data split과정을 거치는 것"
   ]
  },
  {
   "cell_type": "code",
   "execution_count": 46,
   "metadata": {},
   "outputs": [],
   "source": [
    "X_train, y_train, X_test, y_test = load_data('s&p500.csv', 50, True)"
   ]
  },
  {
   "cell_type": "markdown",
   "metadata": {},
   "source": [
    "# lstm 모델 설정"
   ]
  },
  {
   "cell_type": "code",
   "execution_count": 54,
   "metadata": {},
   "outputs": [],
   "source": [
    "#sequential모델설정\n",
    "model = Sequential()\n",
    "\n",
    "'''many to one'''\n",
    "#모델의 층 쌓기\n",
    "'''입력으로 들어가는 데이터 / 우리가 하려는 데이터가 1차원이기 때문에 input_dim = 1이다'''\n",
    "model.add(LSTM(input_dim = 1, output_dim = 50,return_sequences = True))\n",
    "model.add(Dropout(0.2)) #과적합을 피하기 위해서 0.2로 설정\n",
    "\n",
    "model.add(LSTM(100, return_sequences = False))\n",
    "'''해당 층에서는 노트를 100개, 마지막 dense레이어에 들어가기 전이므로 return_sequences를 False로 설정'''\n",
    "model.add(Dropout(0.2))\n",
    "\n",
    "#dense층 설정\n",
    "model.add(Dense(output_dim=1))\n",
    "model.add(Activation('linear')) #활성화 함수는 선형으로 설정"
   ]
  },
  {
   "cell_type": "code",
   "execution_count": 55,
   "metadata": {},
   "outputs": [
    {
     "name": "stdout",
     "output_type": "stream",
     "text": [
      "compilation time :  0.0329134464263916\n"
     ]
    }
   ],
   "source": [
    "'''모델의 학습 과정을 정해주기 위해서 해당 문제는 연속형 변수를 사용하여 예측하는 회귀문제이므로\n",
    "손실함수인 mse를 평가 척도로 사용하며 optimization을 RMSProp로 설정'''\n",
    "start = time.time()\n",
    "#모델의 최적화 과정\n",
    "model.compile(loss='mse',optimizer='rmsprop')\n",
    "print('compilation time : ', time.time() - start)"
   ]
  },
  {
   "cell_type": "markdown",
   "metadata": {},
   "source": [
    "# LSTM 모델학습"
   ]
  },
  {
   "cell_type": "code",
   "execution_count": 56,
   "metadata": {},
   "outputs": [
    {
     "name": "stdout",
     "output_type": "stream",
     "text": [
      "Train on 2847 samples, validate on 150 samples\n",
      "Epoch 1/1\n",
      "2847/2847 [==============================] - 5s 2ms/step - loss: 0.0026 - val_loss: 0.0018\n"
     ]
    },
    {
     "data": {
      "text/plain": [
       "<keras.callbacks.History at 0x1be3e999080>"
      ]
     },
     "execution_count": 56,
     "metadata": {},
     "output_type": "execute_result"
    }
   ],
   "source": [
    "model.fit(X_train, y_train, batch_size=512,nb_epoch=1,validation_split=0.05)\n",
    "'''에폭스 1번 학습, 교차 분할 0.05%로 분할해서 검증'''"
   ]
  },
  {
   "cell_type": "markdown",
   "metadata": {},
   "source": [
    "# 주가예측 시각화"
   ]
  },
  {
   "cell_type": "markdown",
   "metadata": {},
   "source": [
    "### xrange 명령어(python2 지원)가 정수만 사용할 수 있는 range와 너무 다르기 때문에 제대로 된 결과가 나오지 않음"
   ]
  },
  {
   "cell_type": "code",
   "execution_count": 77,
   "metadata": {},
   "outputs": [],
   "source": [
    "pred = predict_sequences_multiple(model,X_test,50,50) #파라미터 (model,data,windowsize,predict_len)"
   ]
  },
  {
   "cell_type": "code",
   "execution_count": 92,
   "metadata": {},
   "outputs": [
    {
     "name": "stdout",
     "output_type": "stream",
     "text": [
      "yo\n"
     ]
    },
    {
     "data": {
      "image/png": "[encoded data removed]",
      "text/plain": [
       "<Figure size 720x576 with 1 Axes>"
      ]
     },
     "metadata": {},
     "output_type": "display_data"
    }
   ],
   "source": [
    "plot_results_multiple(pred, y_test, 50)"
   ]
  },
  {
   "cell_type": "markdown",
   "metadata": {},
   "source": [
    "# 케라스를 활용한 LSTM 2"
   ]
  },
  {
   "cell_type": "code",
   "execution_count": 95,
   "metadata": {},
   "outputs": [],
   "source": [
    "split_date = pd.Timestamp('01-01-2015')"
   ]
  },
  {
   "cell_type": "code",
   "execution_count": 120,
   "metadata": {},
   "outputs": [],
   "source": [
    "train = df.loc[:split_date,:]\n",
    "test = df.loc[split_date:,:]"
   ]
  },
  {
   "cell_type": "code",
   "execution_count": 121,
   "metadata": {},
   "outputs": [
    {
     "data": {
      "text/plain": [
       "<matplotlib.legend.Legend at 0x1be469aa550>"
      ]
     },
     "execution_count": 121,
     "metadata": {},
     "output_type": "execute_result"
    },
    {
     "data": {
      "image/png": "[encoded data removed]",
      "text/plain": [
       "<Figure size 720x576 with 1 Axes>"
      ]
     },
     "metadata": {},
     "output_type": "display_data"
    }
   ],
   "source": [
    "plt.figure(figsize=(10,8))\n",
    "train['Close'].plot()\n",
    "test['Close'].plot()\n",
    "plt.legend(['train','test'])"
   ]
  },
  {
   "cell_type": "markdown",
   "metadata": {},
   "source": [
    "## 변수 스케일링"
   ]
  },
  {
   "cell_type": "code",
   "execution_count": 102,
   "metadata": {},
   "outputs": [],
   "source": [
    "from sklearn.preprocessing import MinMaxScaler"
   ]
  },
  {
   "cell_type": "code",
   "execution_count": 105,
   "metadata": {
    "scrolled": true
   },
   "outputs": [],
   "source": [
    "sc = MinMaxScaler()\n"
   ]
  },
  {
   "cell_type": "code",
   "execution_count": 113,
   "metadata": {},
   "outputs": [],
   "source": [
    "#sc.transform - 테스트데이터에 실행 / sc.fit_transform - 훈련데이터에 실행\n",
    "train_sc = sc.fit_transform(train)\n",
    "test_sc = sc.transform(test)"
   ]
  },
  {
   "cell_type": "code",
   "execution_count": 119,
   "metadata": {},
   "outputs": [],
   "source": [
    "#train_sc_df = pd.DataFrame(train_sc,columns = ['scale'],index = train.index)\n",
    "#test_sc_df = pd.DataFrame(test_sc,columns = ['scale'],index = test.index)"
   ]
  },
  {
   "cell_type": "markdown",
   "metadata": {},
   "source": [
    "# 종가 변수 한개를 이용하여 lstm모델을 생성하는 것 현재 모델의 train과 test를 설명하자면 x변수는 전일의 데이터, y변수는 다음날의 데이터를 지니고 있다.  \n",
    "\n",
    "# 따라서 전일의 종가 데이터로 다음날의 종가 데이터를 예측하는 것으로 학습시켜서 testset을 예측"
   ]
  },
  {
   "cell_type": "markdown",
   "metadata": {},
   "source": [
    "## train, test 분할"
   ]
  },
  {
   "cell_type": "code",
   "execution_count": 186,
   "metadata": {},
   "outputs": [],
   "source": [
    "def create_dataset(dataset, look_back):\n",
    "    dataX, dataY = [], []\n",
    "    for i in range(len(dataset)-look_back-1):\n",
    "        a = dataset[i:(i + look_back)]\n",
    "        dataX.append(a)\n",
    "        dataY.append(dataset[i + look_back]) #전일로 다음날을 예측하는 것이기 때문에\n",
    "    return np.array(dataX), np.array(dataY)"
   ]
  },
  {
   "cell_type": "code",
   "execution_count": 188,
   "metadata": {},
   "outputs": [],
   "source": [
    "trainX, trainY = create_dataset(train_sc,1)\n",
    "testX, testY = create_dataset(test_sc,1)"
   ]
  },
  {
   "cell_type": "markdown",
   "metadata": {},
   "source": [
    "## 모델에 넣을 데이터 형태로 변환"
   ]
  },
  {
   "cell_type": "code",
   "execution_count": 192,
   "metadata": {},
   "outputs": [
    {
     "data": {
      "text/plain": [
       "(2260, 1, 1)"
      ]
     },
     "execution_count": 192,
     "metadata": {},
     "output_type": "execute_result"
    }
   ],
   "source": [
    "(trainX.shape[0],1,trainX.shape[1])"
   ]
  },
  {
   "cell_type": "code",
   "execution_count": 193,
   "metadata": {},
   "outputs": [],
   "source": [
    "trainX = np.reshape(trainX,(trainX.shape[0],1,trainX.shape[1])) #(행의갯수,열의갯수)"
   ]
  },
  {
   "cell_type": "code",
   "execution_count": 194,
   "metadata": {},
   "outputs": [],
   "source": [
    "testX = np.reshape(testX,(testX.shape[0],1,testX.shape[1])) #(행의갯수,열의갯수)"
   ]
  },
  {
   "cell_type": "markdown",
   "metadata": {},
   "source": [
    "# lstm모델 생성"
   ]
  },
  {
   "cell_type": "code",
   "execution_count": 219,
   "metadata": {},
   "outputs": [
    {
     "name": "stdout",
     "output_type": "stream",
     "text": [
      "Epoch 1/120\n",
      " - 4s - loss: 0.0246\n",
      "Epoch 2/120\n",
      " - 4s - loss: 2.1326e-04\n",
      "Epoch 3/120\n",
      " - 4s - loss: 1.7167e-04\n",
      "Epoch 4/120\n",
      " - 4s - loss: 1.4501e-04\n",
      "Epoch 5/120\n",
      " - 4s - loss: 1.4505e-04\n",
      "Epoch 6/120\n",
      " - 4s - loss: 1.4446e-04\n",
      "Epoch 7/120\n",
      " - 4s - loss: 1.4338e-04\n",
      "Epoch 8/120\n",
      " - 4s - loss: 1.4320e-04\n",
      "Epoch 9/120\n",
      " - 4s - loss: 1.4607e-04\n",
      "Epoch 10/120\n",
      " - 4s - loss: 1.4166e-04\n",
      "Epoch 11/120\n",
      " - 4s - loss: 1.4426e-04\n",
      "Epoch 12/120\n",
      " - 3s - loss: 1.4639e-04\n",
      "Epoch 13/120\n",
      " - 4s - loss: 1.4290e-04\n",
      "Epoch 14/120\n",
      " - 4s - loss: 1.4417e-04\n",
      "Epoch 15/120\n",
      " - 4s - loss: 1.4438e-04\n",
      "Epoch 16/120\n",
      " - 4s - loss: 1.4121e-04\n",
      "Epoch 17/120\n",
      " - 3s - loss: 1.4248e-04\n",
      "Epoch 18/120\n",
      " - 4s - loss: 1.4219e-04\n",
      "Epoch 19/120\n",
      " - 4s - loss: 1.4323e-04\n",
      "Epoch 20/120\n",
      " - 4s - loss: 1.4310e-04\n",
      "Epoch 21/120\n",
      " - 4s - loss: 1.4453e-04\n",
      "Epoch 22/120\n",
      " - 4s - loss: 1.3850e-04\n",
      "Epoch 23/120\n",
      " - 4s - loss: 1.4224e-04\n",
      "Epoch 24/120\n",
      " - 4s - loss: 1.4150e-04\n",
      "Epoch 25/120\n",
      " - 4s - loss: 1.4346e-04\n",
      "Epoch 26/120\n",
      " - 4s - loss: 1.4028e-04\n",
      "Epoch 27/120\n",
      " - 4s - loss: 1.4032e-04\n",
      "Epoch 28/120\n",
      " - 4s - loss: 1.4573e-04\n",
      "Epoch 29/120\n",
      " - 4s - loss: 1.4357e-04\n",
      "Epoch 30/120\n",
      " - 3s - loss: 1.4315e-04\n",
      "Epoch 31/120\n",
      " - 4s - loss: 1.4172e-04\n",
      "Epoch 32/120\n",
      " - 4s - loss: 1.4480e-04\n",
      "Epoch 33/120\n",
      " - 4s - loss: 1.4900e-04\n",
      "Epoch 34/120\n",
      " - 4s - loss: 1.3983e-04\n",
      "Epoch 35/120\n",
      " - 4s - loss: 1.4787e-04\n",
      "Epoch 36/120\n",
      " - 3s - loss: 1.4867e-04\n",
      "Epoch 37/120\n",
      " - 4s - loss: 1.4214e-04\n",
      "Epoch 38/120\n",
      " - 4s - loss: 1.4526e-04\n",
      "Epoch 39/120\n",
      " - 4s - loss: 1.4491e-04\n",
      "Epoch 40/120\n",
      " - 4s - loss: 1.4105e-04\n",
      "Epoch 41/120\n",
      " - 4s - loss: 1.4425e-04\n",
      "Epoch 42/120\n",
      " - 5s - loss: 1.4523e-04\n",
      "Epoch 43/120\n",
      " - 4s - loss: 1.4141e-04\n",
      "Epoch 44/120\n",
      " - 4s - loss: 1.4439e-04\n",
      "Epoch 45/120\n",
      " - 4s - loss: 1.4394e-04\n",
      "Epoch 46/120\n",
      " - 4s - loss: 1.4136e-04\n",
      "Epoch 47/120\n",
      " - 4s - loss: 1.4235e-04\n",
      "Epoch 48/120\n",
      " - 4s - loss: 1.4541e-04\n",
      "Epoch 49/120\n",
      " - 4s - loss: 1.4143e-04\n",
      "Epoch 50/120\n",
      " - 4s - loss: 1.4516e-04\n",
      "Epoch 51/120\n",
      " - 4s - loss: 1.4481e-04\n",
      "Epoch 52/120\n",
      " - 4s - loss: 1.4432e-04\n",
      "Epoch 53/120\n",
      " - 4s - loss: 1.4420e-04\n",
      "Epoch 54/120\n",
      " - 4s - loss: 1.3993e-04\n",
      "Epoch 55/120\n",
      " - 5s - loss: 1.4334e-04\n",
      "Epoch 56/120\n",
      " - 4s - loss: 1.4368e-04\n",
      "Epoch 57/120\n",
      " - 4s - loss: 1.4198e-04\n",
      "Epoch 58/120\n",
      " - 4s - loss: 1.4164e-04\n",
      "Epoch 59/120\n",
      " - 4s - loss: 1.4009e-04\n",
      "Epoch 60/120\n",
      " - 4s - loss: 1.4305e-04\n",
      "Epoch 61/120\n",
      " - 4s - loss: 1.3788e-04\n",
      "Epoch 62/120\n",
      " - 4s - loss: 1.4208e-04\n",
      "Epoch 63/120\n",
      " - 4s - loss: 1.4106e-04\n",
      "Epoch 64/120\n",
      " - 4s - loss: 1.3988e-04\n",
      "Epoch 65/120\n",
      " - 4s - loss: 1.4167e-04\n",
      "Epoch 66/120\n",
      " - 4s - loss: 1.4142e-04\n",
      "Epoch 67/120\n",
      " - 4s - loss: 1.4214e-04\n",
      "Epoch 68/120\n",
      " - 4s - loss: 1.4163e-04\n",
      "Epoch 69/120\n",
      " - 4s - loss: 1.4117e-04\n",
      "Epoch 70/120\n",
      " - 4s - loss: 1.3886e-04\n",
      "Epoch 71/120\n",
      " - 4s - loss: 1.4065e-04\n",
      "Epoch 72/120\n",
      " - 4s - loss: 1.3978e-04\n",
      "Epoch 73/120\n",
      " - 4s - loss: 1.3962e-04\n",
      "Epoch 74/120\n",
      " - 4s - loss: 1.3788e-04\n",
      "Epoch 75/120\n",
      " - 4s - loss: 1.4064e-04\n",
      "Epoch 76/120\n",
      " - 4s - loss: 1.4051e-04\n",
      "Epoch 77/120\n",
      " - 4s - loss: 1.4035e-04\n",
      "Epoch 78/120\n",
      " - 3s - loss: 1.4001e-04\n",
      "Epoch 79/120\n",
      " - 4s - loss: 1.3949e-04\n",
      "Epoch 80/120\n",
      " - 3s - loss: 1.3689e-04\n",
      "Epoch 81/120\n",
      " - 3s - loss: 1.4193e-04\n",
      "Epoch 82/120\n",
      " - 3s - loss: 1.3686e-04\n",
      "Epoch 83/120\n",
      " - 4s - loss: 1.3661e-04\n",
      "Epoch 84/120\n",
      " - 3s - loss: 1.3625e-04\n",
      "Epoch 85/120\n",
      " - 4s - loss: 1.4353e-04\n",
      "Epoch 86/120\n",
      " - 4s - loss: 1.3810e-04\n",
      "Epoch 87/120\n",
      " - 4s - loss: 1.4100e-04\n",
      "Epoch 88/120\n",
      " - 4s - loss: 1.4420e-04\n",
      "Epoch 89/120\n",
      " - 4s - loss: 1.4086e-04\n",
      "Epoch 90/120\n",
      " - 4s - loss: 1.3710e-04\n",
      "Epoch 91/120\n",
      " - 4s - loss: 1.3869e-04\n",
      "Epoch 92/120\n",
      " - 4s - loss: 1.3932e-04\n",
      "Epoch 93/120\n",
      " - 4s - loss: 1.4019e-04\n",
      "Epoch 94/120\n",
      " - 3s - loss: 1.3883e-04\n",
      "Epoch 95/120\n",
      " - 4s - loss: 1.4178e-04\n",
      "Epoch 96/120\n",
      " - 3s - loss: 1.4266e-04\n",
      "Epoch 97/120\n",
      " - 4s - loss: 1.4186e-04\n",
      "Epoch 98/120\n",
      " - 4s - loss: 1.4149e-04\n",
      "Epoch 99/120\n",
      " - 3s - loss: 1.3933e-04\n",
      "Epoch 100/120\n",
      " - 3s - loss: 1.3796e-04\n",
      "Epoch 101/120\n",
      " - 3s - loss: 1.3696e-04\n",
      "Epoch 102/120\n",
      " - 4s - loss: 1.3953e-04\n",
      "Epoch 103/120\n",
      " - 4s - loss: 1.3903e-04\n",
      "Epoch 104/120\n",
      " - 4s - loss: 1.3897e-04\n",
      "Epoch 105/120\n",
      " - 4s - loss: 1.4263e-04\n",
      "Epoch 106/120\n",
      " - 4s - loss: 1.4013e-04\n",
      "Epoch 107/120\n",
      " - 4s - loss: 1.3809e-04\n",
      "Epoch 108/120\n",
      " - 4s - loss: 1.3952e-04\n",
      "Epoch 109/120\n",
      " - 4s - loss: 1.3922e-04\n",
      "Epoch 110/120\n",
      " - 4s - loss: 1.3544e-04\n",
      "Epoch 111/120\n",
      " - 4s - loss: 1.3745e-04\n",
      "Epoch 112/120\n",
      " - 4s - loss: 1.3514e-04\n",
      "Epoch 113/120\n",
      " - 3s - loss: 1.4271e-04\n",
      "Epoch 114/120\n",
      " - 4s - loss: 1.3900e-04\n",
      "Epoch 115/120\n",
      " - 4s - loss: 1.3825e-04\n",
      "Epoch 116/120\n",
      " - 4s - loss: 1.3865e-04\n",
      "Epoch 117/120\n",
      " - 4s - loss: 1.3767e-04\n",
      "Epoch 118/120\n",
      " - 4s - loss: 1.4220e-04\n",
      "Epoch 119/120\n",
      " - 4s - loss: 1.3810e-04\n",
      "Epoch 120/120\n",
      " - 4s - loss: 1.3775e-04\n"
     ]
    },
    {
     "data": {
      "text/plain": [
       "<keras.callbacks.History at 0x1be51e79e48>"
      ]
     },
     "execution_count": 219,
     "metadata": {},
     "output_type": "execute_result"
    }
   ],
   "source": [
    "look_back=1\n",
    "\n",
    "# simple lstm network learning\n",
    "'''input층을 바꾼다고 해서 변화되는 것이 없음 lstm모델에서는 파라미터튜닝을 할 때 어떤 방식으로 해야하는지?'''\n",
    "model = Sequential()\n",
    "model.add(LSTM(8, input_shape=(1, look_back)))\n",
    "model.add(Dense(1))\n",
    "#keras의 compile명령어는 척도와 최적화함수를 지정한다.\n",
    "'''regression 모델의 손실 함수(loss function)으로 RMSE와 거의 비슷한 mse를 추출 가능'''\n",
    "model.compile(loss='mean_squared_error', optimizer='adam')\n",
    "model.fit(trainX, trainY, epochs=120, batch_size=1, verbose=2)"
   ]
  },
  {
   "cell_type": "code",
   "execution_count": 196,
   "metadata": {},
   "outputs": [],
   "source": [
    "test_pred = model.predict(testX)"
   ]
  },
  {
   "cell_type": "code",
   "execution_count": 202,
   "metadata": {},
   "outputs": [],
   "source": [
    "'''minmaxscaler을 해서 정규화를 했던 값을 다시 원상태로 되돌리는 명령어 (inverse)'''\n",
    "test_pred = sc.inverse_transform(test_pred)\n",
    "testY = sc.inverse_transform(testY)"
   ]
  },
  {
   "cell_type": "code",
   "execution_count": 203,
   "metadata": {},
   "outputs": [],
   "source": [
    "from sklearn.metrics import mean_squared_error\n",
    "testScore = math.sqrt(mean_squared_error(test_pred,testY))"
   ]
  },
  {
   "cell_type": "code",
   "execution_count": 211,
   "metadata": {},
   "outputs": [],
   "source": [
    "from sklearn.metrics import r2_score\n",
    "\n",
    "r2 = r2_score(test_pred,testY) #90%정도의 높은 정확도를 보임"
   ]
  },
  {
   "cell_type": "code",
   "execution_count": 212,
   "metadata": {},
   "outputs": [
    {
     "name": "stdout",
     "output_type": "stream",
     "text": [
      "테스트결과 RMSE =  80.60471150767474\n",
      "테스트 결과 r2 =  0.907483056017\n"
     ]
    }
   ],
   "source": [
    "print('테스트결과 RMSE = ' ,testScore)\n",
    "print('테스트 결과 r2 = ', r2)"
   ]
  },
  {
   "cell_type": "markdown",
   "metadata": {},
   "source": [
    "# 가장 마지막날 다음날의 종가 예측"
   ]
  },
  {
   "cell_type": "code",
   "execution_count": 207,
   "metadata": {},
   "outputs": [
    {
     "data": {
      "text/plain": [
       "2879.8400000000001"
      ]
     },
     "execution_count": 207,
     "metadata": {},
     "output_type": "execute_result"
    }
   ],
   "source": [
    "df['Close'].iloc[-1]"
   ]
  },
  {
   "cell_type": "markdown",
   "metadata": {},
   "source": [
    "# 최종 결과 LSTM시각화"
   ]
  },
  {
   "cell_type": "code",
   "execution_count": 218,
   "metadata": {},
   "outputs": [
    {
     "data": {
      "text/plain": [
       "<matplotlib.legend.Legend at 0x1be51b88d30>"
      ]
     },
     "execution_count": 218,
     "metadata": {},
     "output_type": "execute_result"
    },
    {
     "data": {
      "image/png": "[encoded data removed]",
      "text/plain": [
       "<Figure size 720x576 with 1 Axes>"
      ]
     },
     "metadata": {},
     "output_type": "display_data"
    }
   ],
   "source": [
    "plt.figure(figsize = (10,8))\n",
    "plt.plot(test_pred,c='r')\n",
    "plt.plot(testY,c='b')\n",
    "plt.legend(['predict','actual'])"
   ]
  },
  {
   "cell_type": "code",
   "execution_count": null,
   "metadata": {},
   "outputs": [],
   "source": []
  },
  {
   "cell_type": "code",
   "execution_count": null,
   "metadata": {},
   "outputs": [],
   "source": []
  },
  {
   "cell_type": "code",
   "execution_count": null,
   "metadata": {},
   "outputs": [],
   "source": []
  },
  {
   "cell_type": "markdown",
   "metadata": {},
   "source": [
    "# train, test로 분할"
   ]
  },
  {
   "cell_type": "code",
   "execution_count": null,
   "metadata": {},
   "outputs": [],
   "source": [
    "train.drop('Volume',inplace=True,axis=1)\n",
    "test.drop('Volume',inplace=True,axis=1)"
   ]
  },
  {
   "cell_type": "code",
   "execution_count": 133,
   "metadata": {},
   "outputs": [
    {
     "data": {
      "text/html": [
       "<div>\n",
       "<style scoped>\n",
       "    .dataframe tbody tr th:only-of-type {\n",
       "        vertical-align: middle;\n",
       "    }\n",
       "\n",
       "    .dataframe tbody tr th {\n",
       "        vertical-align: top;\n",
       "    }\n",
       "\n",
       "    .dataframe thead th {\n",
       "        text-align: right;\n",
       "    }\n",
       "</style>\n",
       "<table border=\"1\" class=\"dataframe\">\n",
       "  <thead>\n",
       "    <tr style=\"text-align: right;\">\n",
       "      <th></th>\n",
       "      <th>Close</th>\n",
       "      <th>Open</th>\n",
       "      <th>High</th>\n",
       "      <th>Low</th>\n",
       "      <th>Change</th>\n",
       "    </tr>\n",
       "    <tr>\n",
       "      <th>Date</th>\n",
       "      <th></th>\n",
       "      <th></th>\n",
       "      <th></th>\n",
       "      <th></th>\n",
       "      <th></th>\n",
       "    </tr>\n",
       "  </thead>\n",
       "  <tbody>\n",
       "    <tr>\n",
       "      <th>2006-01-04</th>\n",
       "      <td>1273.46</td>\n",
       "      <td>1268.80</td>\n",
       "      <td>1275.37</td>\n",
       "      <td>1267.74</td>\n",
       "      <td>0.0037</td>\n",
       "    </tr>\n",
       "    <tr>\n",
       "      <th>2006-01-05</th>\n",
       "      <td>1273.48</td>\n",
       "      <td>1273.46</td>\n",
       "      <td>1276.91</td>\n",
       "      <td>1270.30</td>\n",
       "      <td>0.0000</td>\n",
       "    </tr>\n",
       "    <tr>\n",
       "      <th>2006-01-06</th>\n",
       "      <td>1285.45</td>\n",
       "      <td>1273.48</td>\n",
       "      <td>1286.09</td>\n",
       "      <td>1273.48</td>\n",
       "      <td>0.0094</td>\n",
       "    </tr>\n",
       "    <tr>\n",
       "      <th>2006-01-09</th>\n",
       "      <td>1290.15</td>\n",
       "      <td>1285.45</td>\n",
       "      <td>1290.78</td>\n",
       "      <td>1284.82</td>\n",
       "      <td>0.0037</td>\n",
       "    </tr>\n",
       "    <tr>\n",
       "      <th>2006-01-10</th>\n",
       "      <td>1289.69</td>\n",
       "      <td>1290.15</td>\n",
       "      <td>1290.15</td>\n",
       "      <td>1283.76</td>\n",
       "      <td>-0.0004</td>\n",
       "    </tr>\n",
       "  </tbody>\n",
       "</table>\n",
       "</div>"
      ],
      "text/plain": [
       "              Close     Open     High      Low  Change\n",
       "Date                                                  \n",
       "2006-01-04  1273.46  1268.80  1275.37  1267.74  0.0037\n",
       "2006-01-05  1273.48  1273.46  1276.91  1270.30  0.0000\n",
       "2006-01-06  1285.45  1273.48  1286.09  1273.48  0.0094\n",
       "2006-01-09  1290.15  1285.45  1290.78  1284.82  0.0037\n",
       "2006-01-10  1289.69  1290.15  1290.15  1283.76 -0.0004"
      ]
     },
     "execution_count": 133,
     "metadata": {},
     "output_type": "execute_result"
    }
   ],
   "source": [
    "train.head()"
   ]
  },
  {
   "cell_type": "code",
   "execution_count": 135,
   "metadata": {},
   "outputs": [],
   "source": [
    "x_train = train.dropna().drop('Close',axis=1)\n",
    "y_train = train.dropna()['Close']\n",
    "\n",
    "x_test = test.dropna().drop('Close',axis=1)\n",
    "y_test = test.dropna()['Close']"
   ]
  },
  {
   "cell_type": "code",
   "execution_count": 137,
   "metadata": {},
   "outputs": [],
   "source": [
    "x_train = x_train.values\n",
    "y_train = y_train.values\n",
    "x_test = x_test.values\n",
    "y_test = y_test.values"
   ]
  },
  {
   "cell_type": "markdown",
   "metadata": {},
   "source": [
    "### 모델에 들어갈 형태로 데이터 변환\n",
    "array형태로 reshape(행의갯수, 컬럼의 갯수, 하나의 데이터로)"
   ]
  },
  {
   "cell_type": "code",
   "execution_count": 142,
   "metadata": {},
   "outputs": [],
   "source": [
    "X_train_t = x_train.reshape(x_train.shape[0], 4, 1) #1행씩(4개의 변수)를 하나의 array형태로 넣어주는 것\n",
    "X_test_t = x_test.reshape(x_test.shape[0], 4, 1)\n"
   ]
  },
  {
   "cell_type": "markdown",
   "metadata": {},
   "source": [
    "## LSTM모델 학습"
   ]
  },
  {
   "cell_type": "code",
   "execution_count": 153,
   "metadata": {},
   "outputs": [],
   "source": [
    "from keras.layers import LSTM \n",
    "from keras.models import Sequential \n",
    "from keras.layers import Dense \n",
    "import keras.backend as K \n",
    "from keras.callbacks import EarlyStopping "
   ]
  },
  {
   "cell_type": "code",
   "execution_count": 158,
   "metadata": {},
   "outputs": [
    {
     "name": "stdout",
     "output_type": "stream",
     "text": [
      "_________________________________________________________________\n",
      "Layer (type)                 Output Shape              Param #   \n",
      "=================================================================\n",
      "lstm_1 (LSTM)                (None, 20)                1760      \n",
      "_________________________________________________________________\n",
      "dense_1 (Dense)              (None, 1)                 21        \n",
      "=================================================================\n",
      "Total params: 1,781\n",
      "Trainable params: 1,781\n",
      "Non-trainable params: 0\n",
      "_________________________________________________________________\n"
     ]
    }
   ],
   "source": [
    "K.clear_session()\n",
    "model = Sequential() #sequential 모델\n",
    "model.add(LSTM(20, input_shape = (4,1))) #lstm(timestamp, feature)\n",
    "model.add(Dense(1)) # output = 1 \n",
    "model.compile(loss='mean_squared_error', optimizer='adam')\n",
    "\n",
    "model.summary()"
   ]
  },
  {
   "cell_type": "code",
   "execution_count": 167,
   "metadata": {},
   "outputs": [
    {
     "data": {
      "text/plain": [
       "array([ 2058.2 ,  2020.58,  2002.61, ...,  2886.73,  2885.72,  2879.84])"
      ]
     },
     "execution_count": 167,
     "metadata": {},
     "output_type": "execute_result"
    }
   ],
   "source": [
    "y_test"
   ]
  },
  {
   "cell_type": "code",
   "execution_count": 159,
   "metadata": {
    "scrolled": true
   },
   "outputs": [
    {
     "name": "stdout",
     "output_type": "stream",
     "text": [
      "Epoch 1/100\n",
      "2262/2262 [==============================] - 1s 349us/step - loss: 1953766.0109\n",
      "Epoch 2/100\n",
      "2262/2262 [==============================] - 0s 124us/step - loss: 1949832.6018\n",
      "Epoch 3/100\n",
      "2262/2262 [==============================] - 0s 102us/step - loss: 1944234.5935\n",
      "Epoch 4/100\n",
      "2262/2262 [==============================] - 0s 107us/step - loss: 1937228.1794 0s - loss: 1972906.\n",
      "Epoch 5/100\n",
      "2262/2262 [==============================] - 0s 114us/step - loss: 1930230.0544\n",
      "Epoch 6/100\n",
      "2262/2262 [==============================] - 0s 133us/step - loss: 1924305.6714\n",
      "Epoch 7/100\n",
      "2262/2262 [==============================] - 0s 137us/step - loss: 1918868.2802\n",
      "Epoch 8/100\n",
      "2262/2262 [==============================] - 0s 181us/step - loss: 1913791.4347\n",
      "Epoch 9/100\n",
      "2262/2262 [==============================] - 0s 125us/step - loss: 1909040.5232\n",
      "Epoch 10/100\n",
      "2262/2262 [==============================] - 0s 99us/step - loss: 1904558.3196\n",
      "Epoch 11/100\n",
      "2262/2262 [==============================] - 0s 100us/step - loss: 1900290.0855\n",
      "Epoch 12/100\n",
      "2262/2262 [==============================] - 0s 112us/step - loss: 1896128.3959\n",
      "Epoch 13/100\n",
      "2262/2262 [==============================] - 0s 104us/step - loss: 1892052.7231\n",
      "Epoch 14/100\n",
      "2262/2262 [==============================] - 0s 97us/step - loss: 1888044.5335\n",
      "Epoch 15/100\n",
      "2262/2262 [==============================] - 0s 90us/step - loss: 1884090.2095\n",
      "Epoch 16/100\n",
      "2262/2262 [==============================] - 0s 105us/step - loss: 1880182.0527\n",
      "Epoch 17/100\n",
      "2262/2262 [==============================] - 0s 96us/step - loss: 1876304.4115\n",
      "Epoch 18/100\n",
      "2262/2262 [==============================] - 0s 123us/step - loss: 1872463.3206\n",
      "Epoch 19/100\n",
      "2262/2262 [==============================] - 0s 126us/step - loss: 1868648.1200\n",
      "Epoch 20/100\n",
      "2262/2262 [==============================] - 1s 229us/step - loss: 1864857.9509\n",
      "Epoch 21/100\n",
      "2262/2262 [==============================] - 0s 129us/step - loss: 1861089.1446\n",
      "Epoch 22/100\n",
      "2262/2262 [==============================] - 0s 130us/step - loss: 1857339.2911\n",
      "Epoch 23/100\n",
      "2262/2262 [==============================] - 0s 119us/step - loss: 1853609.5683\n",
      "Epoch 24/100\n",
      "2262/2262 [==============================] - 0s 134us/step - loss: 1849891.9397\n",
      "Epoch 25/100\n",
      "2262/2262 [==============================] - 0s 125us/step - loss: 1846191.1983\n",
      "Epoch 26/100\n",
      "2262/2262 [==============================] - 0s 113us/step - loss: 1842503.9662\n",
      "Epoch 27/100\n",
      "2262/2262 [==============================] - 0s 138us/step - loss: 1838831.0308\n",
      "Epoch 28/100\n",
      "2262/2262 [==============================] - 0s 129us/step - loss: 1835171.5133\n",
      "Epoch 29/100\n",
      "2262/2262 [==============================] - 0s 141us/step - loss: 1831521.8160\n",
      "Epoch 30/100\n",
      "2262/2262 [==============================] - 0s 153us/step - loss: 1827881.6376\n",
      "Epoch 31/100\n",
      "2262/2262 [==============================] - 0s 179us/step - loss: 1824252.9695\n",
      "Epoch 32/100\n",
      "2262/2262 [==============================] - 0s 138us/step - loss: 1820631.8120\n",
      "Epoch 33/100\n",
      "2262/2262 [==============================] - 0s 106us/step - loss: 1817021.7351\n",
      "Epoch 34/100\n",
      "2262/2262 [==============================] - 0s 103us/step - loss: 1813417.3932\n",
      "Epoch 35/100\n",
      "2262/2262 [==============================] - 0s 95us/step - loss: 1809825.4844\n",
      "Epoch 36/100\n",
      "2262/2262 [==============================] - 0s 96us/step - loss: 1806237.2056\n",
      "Epoch 37/100\n",
      "2262/2262 [==============================] - 0s 102us/step - loss: 1802656.1837\n",
      "Epoch 38/100\n",
      "2262/2262 [==============================] - 0s 86us/step - loss: 1799082.0603\n",
      "Epoch 39/100\n",
      "2262/2262 [==============================] - 0s 95us/step - loss: 1795517.7944\n",
      "Epoch 40/100\n",
      "2262/2262 [==============================] - 0s 127us/step - loss: 1791960.9977\n",
      "Epoch 41/100\n",
      "2262/2262 [==============================] - 0s 139us/step - loss: 1788408.8660\n",
      "Epoch 42/100\n",
      "2262/2262 [==============================] - 0s 166us/step - loss: 1784858.8568\n",
      "Epoch 43/100\n",
      "2262/2262 [==============================] - 0s 129us/step - loss: 1781317.8319\n",
      "Epoch 44/100\n",
      "2262/2262 [==============================] - 0s 118us/step - loss: 1777782.4582\n",
      "Epoch 45/100\n",
      "2262/2262 [==============================] - 0s 116us/step - loss: 1774249.9121\n",
      "Epoch 46/100\n",
      "2262/2262 [==============================] - 0s 117us/step - loss: 1770725.8312\n",
      "Epoch 47/100\n",
      "2262/2262 [==============================] - 0s 128us/step - loss: 1767204.6877\n",
      "Epoch 48/100\n",
      "2262/2262 [==============================] - 0s 118us/step - loss: 1763688.6903\n",
      "Epoch 49/100\n",
      "2262/2262 [==============================] - 0s 114us/step - loss: 1760180.0501\n",
      "Epoch 50/100\n",
      "2262/2262 [==============================] - 0s 117us/step - loss: 1756670.7875\n",
      "Epoch 51/100\n",
      "2262/2262 [==============================] - 0s 129us/step - loss: 1753169.3415\n",
      "Epoch 52/100\n",
      "2262/2262 [==============================] - 0s 117us/step - loss: 1749674.7540\n",
      "Epoch 53/100\n",
      "2262/2262 [==============================] - 0s 110us/step - loss: 1746181.8432\n",
      "Epoch 54/100\n",
      "2262/2262 [==============================] - 0s 126us/step - loss: 1742693.5962\n",
      "Epoch 55/100\n",
      "2262/2262 [==============================] - 0s 149us/step - loss: 1739213.2119\n",
      "Epoch 56/100\n",
      "2262/2262 [==============================] - 0s 135us/step - loss: 1735735.3637\n",
      "Epoch 57/100\n",
      "2262/2262 [==============================] - 0s 115us/step - loss: 1732262.1170\n",
      "Epoch 58/100\n",
      "2262/2262 [==============================] - 0s 132us/step - loss: 1728792.8806\n",
      "Epoch 59/100\n",
      "2262/2262 [==============================] - 0s 135us/step - loss: 1725327.5007\n",
      "Epoch 60/100\n",
      "2262/2262 [==============================] - 0s 109us/step - loss: 1721866.4695\n",
      "Epoch 61/100\n",
      "2262/2262 [==============================] - 0s 123us/step - loss: 1718408.3893\n",
      "Epoch 62/100\n",
      "2262/2262 [==============================] - 0s 145us/step - loss: 1714957.0398\n",
      "Epoch 63/100\n",
      "2262/2262 [==============================] - 0s 125us/step - loss: 1711510.6684\n",
      "Epoch 64/100\n",
      "2262/2262 [==============================] - 0s 112us/step - loss: 1708066.8641\n",
      "Epoch 65/100\n",
      "2262/2262 [==============================] - 0s 115us/step - loss: 1704630.5978\n",
      "Epoch 66/100\n",
      "2262/2262 [==============================] - 0s 119us/step - loss: 1701194.9131\n",
      "Epoch 67/100\n",
      "2262/2262 [==============================] - 0s 123us/step - loss: 1697765.0265\n",
      "Epoch 68/100\n",
      "2262/2262 [==============================] - 0s 105us/step - loss: 1694339.3306\n",
      "Epoch 69/100\n",
      "2262/2262 [==============================] - 0s 105us/step - loss: 1690914.6870\n",
      "Epoch 70/100\n",
      "2262/2262 [==============================] - 0s 131us/step - loss: 1687493.9493\n",
      "Epoch 71/100\n",
      "2262/2262 [==============================] - 0s 127us/step - loss: 1684077.0050\n",
      "Epoch 72/100\n",
      "2262/2262 [==============================] - 0s 122us/step - loss: 1680665.3345\n",
      "Epoch 73/100\n",
      "2262/2262 [==============================] - 0s 111us/step - loss: 1677260.2294\n",
      "Epoch 74/100\n",
      "2262/2262 [==============================] - 0s 110us/step - loss: 1673858.5458\n",
      "Epoch 75/100\n",
      "2262/2262 [==============================] - 0s 96us/step - loss: 1670458.3243\n",
      "Epoch 76/100\n",
      "2262/2262 [==============================] - 0s 113us/step - loss: 1667062.1197\n",
      "Epoch 77/100\n",
      "2262/2262 [==============================] - 0s 110us/step - loss: 1663671.8127\n",
      "Epoch 78/100\n",
      "2262/2262 [==============================] - 0s 115us/step - loss: 1660282.5507\n",
      "Epoch 79/100\n",
      "2262/2262 [==============================] - 0s 107us/step - loss: 1656897.5620\n",
      "Epoch 80/100\n",
      "2262/2262 [==============================] - 0s 122us/step - loss: 1653519.0666\n",
      "Epoch 81/100\n",
      "2262/2262 [==============================] - 0s 97us/step - loss: 1650143.4834\n",
      "Epoch 82/100\n",
      "2262/2262 [==============================] - 0s 103us/step - loss: 1646770.6353\n",
      "Epoch 83/100\n",
      "2262/2262 [==============================] - 0s 101us/step - loss: 1643403.3571\n",
      "Epoch 84/100\n",
      "2262/2262 [==============================] - 0s 99us/step - loss: 1640040.1860\n",
      "Epoch 85/100\n",
      "2262/2262 [==============================] - 0s 105us/step - loss: 1636680.6751\n",
      "Epoch 86/100\n",
      "2262/2262 [==============================] - 0s 115us/step - loss: 1633323.3564\n",
      "Epoch 87/100\n",
      "2262/2262 [==============================] - 0s 98us/step - loss: 1629968.4324\n",
      "Epoch 88/100\n",
      "2262/2262 [==============================] - 0s 98us/step - loss: 1626618.2288\n",
      "Epoch 89/100\n"
     ]
    },
    {
     "name": "stdout",
     "output_type": "stream",
     "text": [
      "2262/2262 [==============================] - 0s 122us/step - loss: 1623272.4788\n",
      "Epoch 90/100\n",
      "2262/2262 [==============================] - 0s 101us/step - loss: 1619927.4397\n",
      "Epoch 91/100\n",
      "2262/2262 [==============================] - 0s 97us/step - loss: 1616589.3959\n",
      "Epoch 92/100\n",
      "2262/2262 [==============================] - 0s 94us/step - loss: 1613255.0136\n",
      "Epoch 93/100\n",
      "2262/2262 [==============================] - 0s 92us/step - loss: 1609927.9320\n",
      "Epoch 94/100\n",
      "2262/2262 [==============================] - 0s 113us/step - loss: 1606599.2692\n",
      "Epoch 95/100\n",
      "2262/2262 [==============================] - 0s 105us/step - loss: 1603275.9320\n",
      "Epoch 96/100\n",
      "2262/2262 [==============================] - 0s 93us/step - loss: 1599958.7129\n",
      "Epoch 97/100\n",
      "2262/2262 [==============================] - 0s 95us/step - loss: 1596641.6025\n",
      "Epoch 98/100\n",
      "2262/2262 [==============================] - 0s 95us/step - loss: 1593328.0723\n",
      "Epoch 99/100\n",
      "2262/2262 [==============================] - 0s 107us/step - loss: 1590019.9145\n",
      "Epoch 100/100\n",
      "2262/2262 [==============================] - 0s 93us/step - loss: 1586713.6969\n"
     ]
    },
    {
     "data": {
      "text/plain": [
       "<keras.callbacks.History at 0x1be50121518>"
      ]
     },
     "execution_count": 159,
     "metadata": {},
     "output_type": "execute_result"
    }
   ],
   "source": [
    "early_stop = EarlyStopping(monitor='loss', patience=1, verbose=1)\n",
    "\n",
    "model.fit(X_train_t, y_train, epochs=100,\n",
    "          batch_size=30, verbose=1, callbacks=[early_stop])\n"
   ]
  },
  {
   "cell_type": "code",
   "execution_count": 160,
   "metadata": {},
   "outputs": [],
   "source": [
    "y_pred = model.predict(X_test_t)"
   ]
  },
  {
   "cell_type": "markdown",
   "metadata": {},
   "source": [
    "# 성능이 너무 안좋게 나오는데 이유가 어떤 것이지.."
   ]
  },
  {
   "cell_type": "code",
   "execution_count": 164,
   "metadata": {},
   "outputs": [
    {
     "data": {
      "text/plain": [
       "array([[ 143.14546204],\n",
       "       [ 143.14546204],\n",
       "       [ 143.14546204],\n",
       "       ..., \n",
       "       [ 143.14546204],\n",
       "       [ 143.14546204],\n",
       "       [ 143.14546204]], dtype=float32)"
      ]
     },
     "execution_count": 164,
     "metadata": {},
     "output_type": "execute_result"
    }
   ],
   "source": [
    "y_pred"
   ]
  },
  {
   "cell_type": "code",
   "execution_count": 162,
   "metadata": {},
   "outputs": [
    {
     "data": {
      "text/plain": [
       "[<matplotlib.lines.Line2D at 0x1be50e9cf60>]"
      ]
     },
     "execution_count": 162,
     "metadata": {},
     "output_type": "execute_result"
    },
    {
     "data": {
      "image/png": "[encoded data removed]",
      "text/plain": [
       "<Figure size 432x288 with 1 Axes>"
      ]
     },
     "metadata": {},
     "output_type": "display_data"
    }
   ],
   "source": [
    "plt.plot(test.dropna().index,y_pred)\n",
    "plt.plot(test.dropna().index,y_test)"
   ]
  },
  {
   "cell_type": "code",
   "execution_count": null,
   "metadata": {},
   "outputs": [],
   "source": []
  }
 ],
 "metadata": {
  "kernelspec": {
   "display_name": "Python 3",
   "language": "python",
   "name": "python3"
  },
  "language_info": {
   "codemirror_mode": {
    "name": "ipython",
    "version": 3
   },
   "file_extension": ".py",
   "mimetype": "text/x-python",
   "name": "python",
   "nbconvert_exporter": "python",
   "pygments_lexer": "ipython3",
   "version": "3.6.5"
  }
 },
 "nbformat": 4,
 "nbformat_minor": 2
}
